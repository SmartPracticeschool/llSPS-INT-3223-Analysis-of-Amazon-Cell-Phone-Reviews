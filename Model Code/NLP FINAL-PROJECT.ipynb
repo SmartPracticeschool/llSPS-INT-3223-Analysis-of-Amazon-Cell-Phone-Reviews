{
 "cells": [
  {
   "cell_type": "code",
   "execution_count": 1,
   "metadata": {},
   "outputs": [],
   "source": [
    "import numpy as np\n",
    "import pandas as pd"
   ]
  },
  {
   "cell_type": "code",
   "execution_count": 2,
   "metadata": {},
   "outputs": [],
   "source": [
    "ds = pd.read_csv(r\"C:\\Users\\Anantha Priya\\Desktop\\Final-Project\\reviews.csv\", delimiter = \",\")"
   ]
  },
  {
   "cell_type": "code",
   "execution_count": 3,
   "metadata": {},
   "outputs": [
    {
     "data": {
      "text/html": [
       "<div>\n",
       "<style scoped>\n",
       "    .dataframe tbody tr th:only-of-type {\n",
       "        vertical-align: middle;\n",
       "    }\n",
       "\n",
       "    .dataframe tbody tr th {\n",
       "        vertical-align: top;\n",
       "    }\n",
       "\n",
       "    .dataframe thead th {\n",
       "        text-align: right;\n",
       "    }\n",
       "</style>\n",
       "<table border=\"1\" class=\"dataframe\">\n",
       "  <thead>\n",
       "    <tr style=\"text-align: right;\">\n",
       "      <th></th>\n",
       "      <th>asin</th>\n",
       "      <th>name</th>\n",
       "      <th>rating</th>\n",
       "      <th>date</th>\n",
       "      <th>verified</th>\n",
       "      <th>title</th>\n",
       "      <th>body</th>\n",
       "      <th>helpfulVotes</th>\n",
       "    </tr>\n",
       "  </thead>\n",
       "  <tbody>\n",
       "    <tr>\n",
       "      <th>0</th>\n",
       "      <td>B0000SX2UC</td>\n",
       "      <td>Janet</td>\n",
       "      <td>3</td>\n",
       "      <td>October 11, 2005</td>\n",
       "      <td>False</td>\n",
       "      <td>Def not best, but not worst</td>\n",
       "      <td>I had the Samsung A600 for awhile which is abs...</td>\n",
       "      <td>1.0</td>\n",
       "    </tr>\n",
       "    <tr>\n",
       "      <th>1</th>\n",
       "      <td>B0000SX2UC</td>\n",
       "      <td>Luke Wyatt</td>\n",
       "      <td>1</td>\n",
       "      <td>January 7, 2004</td>\n",
       "      <td>False</td>\n",
       "      <td>Text Messaging Doesn't Work</td>\n",
       "      <td>Due to a software issue between Nokia and Spri...</td>\n",
       "      <td>17.0</td>\n",
       "    </tr>\n",
       "    <tr>\n",
       "      <th>2</th>\n",
       "      <td>B0000SX2UC</td>\n",
       "      <td>Brooke</td>\n",
       "      <td>5</td>\n",
       "      <td>December 30, 2003</td>\n",
       "      <td>False</td>\n",
       "      <td>Love This Phone</td>\n",
       "      <td>This is a great, reliable phone. I also purcha...</td>\n",
       "      <td>5.0</td>\n",
       "    </tr>\n",
       "    <tr>\n",
       "      <th>3</th>\n",
       "      <td>B0000SX2UC</td>\n",
       "      <td>amy m. teague</td>\n",
       "      <td>3</td>\n",
       "      <td>March 18, 2004</td>\n",
       "      <td>False</td>\n",
       "      <td>Love the Phone, BUT...!</td>\n",
       "      <td>I love the phone and all, because I really did...</td>\n",
       "      <td>1.0</td>\n",
       "    </tr>\n",
       "    <tr>\n",
       "      <th>4</th>\n",
       "      <td>B0000SX2UC</td>\n",
       "      <td>tristazbimmer</td>\n",
       "      <td>4</td>\n",
       "      <td>August 28, 2005</td>\n",
       "      <td>False</td>\n",
       "      <td>Great phone service and options, lousy case!</td>\n",
       "      <td>The phone has been great for every purpose it ...</td>\n",
       "      <td>1.0</td>\n",
       "    </tr>\n",
       "    <tr>\n",
       "      <th>...</th>\n",
       "      <td>...</td>\n",
       "      <td>...</td>\n",
       "      <td>...</td>\n",
       "      <td>...</td>\n",
       "      <td>...</td>\n",
       "      <td>...</td>\n",
       "      <td>...</td>\n",
       "      <td>...</td>\n",
       "    </tr>\n",
       "    <tr>\n",
       "      <th>67981</th>\n",
       "      <td>B081H6STQQ</td>\n",
       "      <td>jande</td>\n",
       "      <td>5</td>\n",
       "      <td>August 16, 2019</td>\n",
       "      <td>False</td>\n",
       "      <td>Awesome Phone, but finger scanner is a big mis...</td>\n",
       "      <td>I love the camera on this phone. The screen is...</td>\n",
       "      <td>1.0</td>\n",
       "    </tr>\n",
       "    <tr>\n",
       "      <th>67982</th>\n",
       "      <td>B081H6STQQ</td>\n",
       "      <td>2cool4u</td>\n",
       "      <td>5</td>\n",
       "      <td>September 14, 2019</td>\n",
       "      <td>False</td>\n",
       "      <td>Simply Amazing!</td>\n",
       "      <td>I've been an Xperia user for several years and...</td>\n",
       "      <td>1.0</td>\n",
       "    </tr>\n",
       "    <tr>\n",
       "      <th>67983</th>\n",
       "      <td>B081H6STQQ</td>\n",
       "      <td>simon</td>\n",
       "      <td>5</td>\n",
       "      <td>July 14, 2019</td>\n",
       "      <td>False</td>\n",
       "      <td>great phon3, but many bugs need to fix. still ...</td>\n",
       "      <td>buy one more for my cousin</td>\n",
       "      <td>NaN</td>\n",
       "    </tr>\n",
       "    <tr>\n",
       "      <th>67984</th>\n",
       "      <td>B081TJFVCJ</td>\n",
       "      <td>Tobiasz Jedrysiak</td>\n",
       "      <td>5</td>\n",
       "      <td>December 24, 2019</td>\n",
       "      <td>True</td>\n",
       "      <td>Phone is like new</td>\n",
       "      <td>Product looks and works like new. Very much re...</td>\n",
       "      <td>NaN</td>\n",
       "    </tr>\n",
       "    <tr>\n",
       "      <th>67985</th>\n",
       "      <td>B0825BB7SG</td>\n",
       "      <td>Owen Gonzalez</td>\n",
       "      <td>5</td>\n",
       "      <td>December 11, 2019</td>\n",
       "      <td>False</td>\n",
       "      <td>Outstanding phone for the price</td>\n",
       "      <td>I love the size and style of this phone. It is...</td>\n",
       "      <td>NaN</td>\n",
       "    </tr>\n",
       "  </tbody>\n",
       "</table>\n",
       "<p>67986 rows × 8 columns</p>\n",
       "</div>"
      ],
      "text/plain": [
       "             asin               name  rating                date  verified  \\\n",
       "0      B0000SX2UC              Janet       3    October 11, 2005     False   \n",
       "1      B0000SX2UC         Luke Wyatt       1     January 7, 2004     False   \n",
       "2      B0000SX2UC             Brooke       5   December 30, 2003     False   \n",
       "3      B0000SX2UC      amy m. teague       3      March 18, 2004     False   \n",
       "4      B0000SX2UC      tristazbimmer       4     August 28, 2005     False   \n",
       "...           ...                ...     ...                 ...       ...   \n",
       "67981  B081H6STQQ              jande       5     August 16, 2019     False   \n",
       "67982  B081H6STQQ            2cool4u       5  September 14, 2019     False   \n",
       "67983  B081H6STQQ              simon       5       July 14, 2019     False   \n",
       "67984  B081TJFVCJ  Tobiasz Jedrysiak       5   December 24, 2019      True   \n",
       "67985  B0825BB7SG      Owen Gonzalez       5   December 11, 2019     False   \n",
       "\n",
       "                                                   title  \\\n",
       "0                            Def not best, but not worst   \n",
       "1                            Text Messaging Doesn't Work   \n",
       "2                                        Love This Phone   \n",
       "3                                Love the Phone, BUT...!   \n",
       "4           Great phone service and options, lousy case!   \n",
       "...                                                  ...   \n",
       "67981  Awesome Phone, but finger scanner is a big mis...   \n",
       "67982                                    Simply Amazing!   \n",
       "67983  great phon3, but many bugs need to fix. still ...   \n",
       "67984                                  Phone is like new   \n",
       "67985                    Outstanding phone for the price   \n",
       "\n",
       "                                                    body  helpfulVotes  \n",
       "0      I had the Samsung A600 for awhile which is abs...           1.0  \n",
       "1      Due to a software issue between Nokia and Spri...          17.0  \n",
       "2      This is a great, reliable phone. I also purcha...           5.0  \n",
       "3      I love the phone and all, because I really did...           1.0  \n",
       "4      The phone has been great for every purpose it ...           1.0  \n",
       "...                                                  ...           ...  \n",
       "67981  I love the camera on this phone. The screen is...           1.0  \n",
       "67982  I've been an Xperia user for several years and...           1.0  \n",
       "67983                         buy one more for my cousin           NaN  \n",
       "67984  Product looks and works like new. Very much re...           NaN  \n",
       "67985  I love the size and style of this phone. It is...           NaN  \n",
       "\n",
       "[67986 rows x 8 columns]"
      ]
     },
     "execution_count": 3,
     "metadata": {},
     "output_type": "execute_result"
    }
   ],
   "source": [
    "ds"
   ]
  },
  {
   "cell_type": "code",
   "execution_count": 4,
   "metadata": {},
   "outputs": [],
   "source": [
    "ds.drop(columns=['asin', 'name' , 'date' , 'verified' , 'helpfulVotes' ] , inplace = True)"
   ]
  },
  {
   "cell_type": "code",
   "execution_count": 5,
   "metadata": {},
   "outputs": [
    {
     "data": {
      "text/html": [
       "<div>\n",
       "<style scoped>\n",
       "    .dataframe tbody tr th:only-of-type {\n",
       "        vertical-align: middle;\n",
       "    }\n",
       "\n",
       "    .dataframe tbody tr th {\n",
       "        vertical-align: top;\n",
       "    }\n",
       "\n",
       "    .dataframe thead th {\n",
       "        text-align: right;\n",
       "    }\n",
       "</style>\n",
       "<table border=\"1\" class=\"dataframe\">\n",
       "  <thead>\n",
       "    <tr style=\"text-align: right;\">\n",
       "      <th></th>\n",
       "      <th>rating</th>\n",
       "      <th>title</th>\n",
       "      <th>body</th>\n",
       "    </tr>\n",
       "  </thead>\n",
       "  <tbody>\n",
       "    <tr>\n",
       "      <th>0</th>\n",
       "      <td>3</td>\n",
       "      <td>Def not best, but not worst</td>\n",
       "      <td>I had the Samsung A600 for awhile which is abs...</td>\n",
       "    </tr>\n",
       "    <tr>\n",
       "      <th>1</th>\n",
       "      <td>1</td>\n",
       "      <td>Text Messaging Doesn't Work</td>\n",
       "      <td>Due to a software issue between Nokia and Spri...</td>\n",
       "    </tr>\n",
       "    <tr>\n",
       "      <th>2</th>\n",
       "      <td>5</td>\n",
       "      <td>Love This Phone</td>\n",
       "      <td>This is a great, reliable phone. I also purcha...</td>\n",
       "    </tr>\n",
       "    <tr>\n",
       "      <th>3</th>\n",
       "      <td>3</td>\n",
       "      <td>Love the Phone, BUT...!</td>\n",
       "      <td>I love the phone and all, because I really did...</td>\n",
       "    </tr>\n",
       "    <tr>\n",
       "      <th>4</th>\n",
       "      <td>4</td>\n",
       "      <td>Great phone service and options, lousy case!</td>\n",
       "      <td>The phone has been great for every purpose it ...</td>\n",
       "    </tr>\n",
       "    <tr>\n",
       "      <th>...</th>\n",
       "      <td>...</td>\n",
       "      <td>...</td>\n",
       "      <td>...</td>\n",
       "    </tr>\n",
       "    <tr>\n",
       "      <th>67981</th>\n",
       "      <td>5</td>\n",
       "      <td>Awesome Phone, but finger scanner is a big mis...</td>\n",
       "      <td>I love the camera on this phone. The screen is...</td>\n",
       "    </tr>\n",
       "    <tr>\n",
       "      <th>67982</th>\n",
       "      <td>5</td>\n",
       "      <td>Simply Amazing!</td>\n",
       "      <td>I've been an Xperia user for several years and...</td>\n",
       "    </tr>\n",
       "    <tr>\n",
       "      <th>67983</th>\n",
       "      <td>5</td>\n",
       "      <td>great phon3, but many bugs need to fix. still ...</td>\n",
       "      <td>buy one more for my cousin</td>\n",
       "    </tr>\n",
       "    <tr>\n",
       "      <th>67984</th>\n",
       "      <td>5</td>\n",
       "      <td>Phone is like new</td>\n",
       "      <td>Product looks and works like new. Very much re...</td>\n",
       "    </tr>\n",
       "    <tr>\n",
       "      <th>67985</th>\n",
       "      <td>5</td>\n",
       "      <td>Outstanding phone for the price</td>\n",
       "      <td>I love the size and style of this phone. It is...</td>\n",
       "    </tr>\n",
       "  </tbody>\n",
       "</table>\n",
       "<p>67986 rows × 3 columns</p>\n",
       "</div>"
      ],
      "text/plain": [
       "       rating                                              title  \\\n",
       "0           3                        Def not best, but not worst   \n",
       "1           1                        Text Messaging Doesn't Work   \n",
       "2           5                                    Love This Phone   \n",
       "3           3                            Love the Phone, BUT...!   \n",
       "4           4       Great phone service and options, lousy case!   \n",
       "...       ...                                                ...   \n",
       "67981       5  Awesome Phone, but finger scanner is a big mis...   \n",
       "67982       5                                    Simply Amazing!   \n",
       "67983       5  great phon3, but many bugs need to fix. still ...   \n",
       "67984       5                                  Phone is like new   \n",
       "67985       5                    Outstanding phone for the price   \n",
       "\n",
       "                                                    body  \n",
       "0      I had the Samsung A600 for awhile which is abs...  \n",
       "1      Due to a software issue between Nokia and Spri...  \n",
       "2      This is a great, reliable phone. I also purcha...  \n",
       "3      I love the phone and all, because I really did...  \n",
       "4      The phone has been great for every purpose it ...  \n",
       "...                                                  ...  \n",
       "67981  I love the camera on this phone. The screen is...  \n",
       "67982  I've been an Xperia user for several years and...  \n",
       "67983                         buy one more for my cousin  \n",
       "67984  Product looks and works like new. Very much re...  \n",
       "67985  I love the size and style of this phone. It is...  \n",
       "\n",
       "[67986 rows x 3 columns]"
      ]
     },
     "execution_count": 5,
     "metadata": {},
     "output_type": "execute_result"
    }
   ],
   "source": [
    "ds"
   ]
  },
  {
   "cell_type": "code",
   "execution_count": 6,
   "metadata": {},
   "outputs": [],
   "source": [
    "ds['sentiment'] = ds['rating'].apply(lambda rating : +1 if rating > 3 else 0)"
   ]
  },
  {
   "cell_type": "code",
   "execution_count": 7,
   "metadata": {},
   "outputs": [
    {
     "data": {
      "text/html": [
       "<div>\n",
       "<style scoped>\n",
       "    .dataframe tbody tr th:only-of-type {\n",
       "        vertical-align: middle;\n",
       "    }\n",
       "\n",
       "    .dataframe tbody tr th {\n",
       "        vertical-align: top;\n",
       "    }\n",
       "\n",
       "    .dataframe thead th {\n",
       "        text-align: right;\n",
       "    }\n",
       "</style>\n",
       "<table border=\"1\" class=\"dataframe\">\n",
       "  <thead>\n",
       "    <tr style=\"text-align: right;\">\n",
       "      <th></th>\n",
       "      <th>rating</th>\n",
       "      <th>title</th>\n",
       "      <th>body</th>\n",
       "      <th>sentiment</th>\n",
       "    </tr>\n",
       "  </thead>\n",
       "  <tbody>\n",
       "    <tr>\n",
       "      <th>0</th>\n",
       "      <td>3</td>\n",
       "      <td>Def not best, but not worst</td>\n",
       "      <td>I had the Samsung A600 for awhile which is abs...</td>\n",
       "      <td>0</td>\n",
       "    </tr>\n",
       "    <tr>\n",
       "      <th>1</th>\n",
       "      <td>1</td>\n",
       "      <td>Text Messaging Doesn't Work</td>\n",
       "      <td>Due to a software issue between Nokia and Spri...</td>\n",
       "      <td>0</td>\n",
       "    </tr>\n",
       "    <tr>\n",
       "      <th>2</th>\n",
       "      <td>5</td>\n",
       "      <td>Love This Phone</td>\n",
       "      <td>This is a great, reliable phone. I also purcha...</td>\n",
       "      <td>1</td>\n",
       "    </tr>\n",
       "    <tr>\n",
       "      <th>3</th>\n",
       "      <td>3</td>\n",
       "      <td>Love the Phone, BUT...!</td>\n",
       "      <td>I love the phone and all, because I really did...</td>\n",
       "      <td>0</td>\n",
       "    </tr>\n",
       "    <tr>\n",
       "      <th>4</th>\n",
       "      <td>4</td>\n",
       "      <td>Great phone service and options, lousy case!</td>\n",
       "      <td>The phone has been great for every purpose it ...</td>\n",
       "      <td>1</td>\n",
       "    </tr>\n",
       "    <tr>\n",
       "      <th>...</th>\n",
       "      <td>...</td>\n",
       "      <td>...</td>\n",
       "      <td>...</td>\n",
       "      <td>...</td>\n",
       "    </tr>\n",
       "    <tr>\n",
       "      <th>67981</th>\n",
       "      <td>5</td>\n",
       "      <td>Awesome Phone, but finger scanner is a big mis...</td>\n",
       "      <td>I love the camera on this phone. The screen is...</td>\n",
       "      <td>1</td>\n",
       "    </tr>\n",
       "    <tr>\n",
       "      <th>67982</th>\n",
       "      <td>5</td>\n",
       "      <td>Simply Amazing!</td>\n",
       "      <td>I've been an Xperia user for several years and...</td>\n",
       "      <td>1</td>\n",
       "    </tr>\n",
       "    <tr>\n",
       "      <th>67983</th>\n",
       "      <td>5</td>\n",
       "      <td>great phon3, but many bugs need to fix. still ...</td>\n",
       "      <td>buy one more for my cousin</td>\n",
       "      <td>1</td>\n",
       "    </tr>\n",
       "    <tr>\n",
       "      <th>67984</th>\n",
       "      <td>5</td>\n",
       "      <td>Phone is like new</td>\n",
       "      <td>Product looks and works like new. Very much re...</td>\n",
       "      <td>1</td>\n",
       "    </tr>\n",
       "    <tr>\n",
       "      <th>67985</th>\n",
       "      <td>5</td>\n",
       "      <td>Outstanding phone for the price</td>\n",
       "      <td>I love the size and style of this phone. It is...</td>\n",
       "      <td>1</td>\n",
       "    </tr>\n",
       "  </tbody>\n",
       "</table>\n",
       "<p>67986 rows × 4 columns</p>\n",
       "</div>"
      ],
      "text/plain": [
       "       rating                                              title  \\\n",
       "0           3                        Def not best, but not worst   \n",
       "1           1                        Text Messaging Doesn't Work   \n",
       "2           5                                    Love This Phone   \n",
       "3           3                            Love the Phone, BUT...!   \n",
       "4           4       Great phone service and options, lousy case!   \n",
       "...       ...                                                ...   \n",
       "67981       5  Awesome Phone, but finger scanner is a big mis...   \n",
       "67982       5                                    Simply Amazing!   \n",
       "67983       5  great phon3, but many bugs need to fix. still ...   \n",
       "67984       5                                  Phone is like new   \n",
       "67985       5                    Outstanding phone for the price   \n",
       "\n",
       "                                                    body  sentiment  \n",
       "0      I had the Samsung A600 for awhile which is abs...          0  \n",
       "1      Due to a software issue between Nokia and Spri...          0  \n",
       "2      This is a great, reliable phone. I also purcha...          1  \n",
       "3      I love the phone and all, because I really did...          0  \n",
       "4      The phone has been great for every purpose it ...          1  \n",
       "...                                                  ...        ...  \n",
       "67981  I love the camera on this phone. The screen is...          1  \n",
       "67982  I've been an Xperia user for several years and...          1  \n",
       "67983                         buy one more for my cousin          1  \n",
       "67984  Product looks and works like new. Very much re...          1  \n",
       "67985  I love the size and style of this phone. It is...          1  \n",
       "\n",
       "[67986 rows x 4 columns]"
      ]
     },
     "execution_count": 7,
     "metadata": {},
     "output_type": "execute_result"
    }
   ],
   "source": [
    "ds"
   ]
  },
  {
   "cell_type": "code",
   "execution_count": 8,
   "metadata": {},
   "outputs": [
    {
     "data": {
      "text/plain": [
       "rating       False\n",
       "title         True\n",
       "body          True\n",
       "sentiment    False\n",
       "dtype: bool"
      ]
     },
     "execution_count": 8,
     "metadata": {},
     "output_type": "execute_result"
    }
   ],
   "source": [
    "ds.isnull().any()"
   ]
  },
  {
   "cell_type": "code",
   "execution_count": 9,
   "metadata": {},
   "outputs": [],
   "source": [
    "ds[\"title\"].fillna(ds[\"title\"].mode()[0] , inplace = True)"
   ]
  },
  {
   "cell_type": "code",
   "execution_count": 10,
   "metadata": {},
   "outputs": [],
   "source": [
    "ds[\"body\"].fillna(ds[\"body\"].mode()[0] , inplace = True)"
   ]
  },
  {
   "cell_type": "code",
   "execution_count": 11,
   "metadata": {},
   "outputs": [
    {
     "data": {
      "text/plain": [
       "rating       False\n",
       "title        False\n",
       "body         False\n",
       "sentiment    False\n",
       "dtype: bool"
      ]
     },
     "execution_count": 11,
     "metadata": {},
     "output_type": "execute_result"
    }
   ],
   "source": [
    "ds.isnull().any()"
   ]
  },
  {
   "cell_type": "code",
   "execution_count": 12,
   "metadata": {},
   "outputs": [
    {
     "name": "stderr",
     "output_type": "stream",
     "text": [
      "[nltk_data] Downloading package stopwords to C:\\Users\\Anantha\n",
      "[nltk_data]     Priya\\AppData\\Roaming\\nltk_data...\n",
      "[nltk_data]   Package stopwords is already up-to-date!\n"
     ]
    }
   ],
   "source": [
    "import re #regular expressions to replace special charecters\n",
    "import nltk\n",
    "nltk.download(\"stopwords\") # for is then that or , is here where\n",
    "from nltk.corpus import stopwords\n",
    "from nltk.stem.porter import PorterStemmer"
   ]
  },
  {
   "cell_type": "code",
   "execution_count": 13,
   "metadata": {},
   "outputs": [],
   "source": [
    "ps = PorterStemmer()\n",
    "data = []"
   ]
  },
  {
   "cell_type": "code",
   "execution_count": 14,
   "metadata": {},
   "outputs": [],
   "source": [
    "for i in range(0,67986):\n",
    "    review = ds[\"title\"][i]\n",
    "    review = re.sub('[^a-zA-Z]', ' ',review)\n",
    "    review = review.lower()\n",
    "    review = review.split()\n",
    "    review = [ps.stem(word) for word in review if not word in set(stopwords.words('english'))]\n",
    "    review = ' '.join(review)\n",
    "    data.append(review)"
   ]
  },
  {
   "cell_type": "code",
   "execution_count": 15,
   "metadata": {},
   "outputs": [],
   "source": [
    "from sklearn.feature_extraction.text import CountVectorizer\n",
    "import pickle \n",
    "cv = CountVectorizer(max_features = 3000)\n",
    "x = cv.fit_transform(data).toarray()\n",
    "with open('CountVectorizer','wb') as file:\n",
    "    pickle.dump(cv,file)"
   ]
  },
  {
   "cell_type": "code",
   "execution_count": 16,
   "metadata": {},
   "outputs": [],
   "source": [
    "y = ds.iloc[:,3:4].values"
   ]
  },
  {
   "cell_type": "code",
   "execution_count": 17,
   "metadata": {},
   "outputs": [
    {
     "data": {
      "text/plain": [
       "array([[0],\n",
       "       [0],\n",
       "       [1],\n",
       "       ...,\n",
       "       [1],\n",
       "       [1],\n",
       "       [1]], dtype=int64)"
      ]
     },
     "execution_count": 17,
     "metadata": {},
     "output_type": "execute_result"
    }
   ],
   "source": [
    "y"
   ]
  },
  {
   "cell_type": "code",
   "execution_count": 18,
   "metadata": {},
   "outputs": [],
   "source": [
    "from sklearn.model_selection import train_test_split\n",
    "x_train,x_test,y_train,y_test = train_test_split(x,y,random_state = 0,test_size = 0.2)"
   ]
  },
  {
   "cell_type": "code",
   "execution_count": 19,
   "metadata": {},
   "outputs": [
    {
     "data": {
      "text/plain": [
       "(54388, 3000)"
      ]
     },
     "execution_count": 19,
     "metadata": {},
     "output_type": "execute_result"
    }
   ],
   "source": [
    "x_train.shape"
   ]
  },
  {
   "cell_type": "code",
   "execution_count": 20,
   "metadata": {},
   "outputs": [
    {
     "data": {
      "text/plain": [
       "(13598, 3000)"
      ]
     },
     "execution_count": 20,
     "metadata": {},
     "output_type": "execute_result"
    }
   ],
   "source": [
    "x_test.shape"
   ]
  },
  {
   "cell_type": "code",
   "execution_count": 21,
   "metadata": {},
   "outputs": [
    {
     "data": {
      "text/plain": [
       "(54388, 1)"
      ]
     },
     "execution_count": 21,
     "metadata": {},
     "output_type": "execute_result"
    }
   ],
   "source": [
    "y_train.shape"
   ]
  },
  {
   "cell_type": "code",
   "execution_count": 22,
   "metadata": {},
   "outputs": [
    {
     "data": {
      "text/plain": [
       "(13598, 1)"
      ]
     },
     "execution_count": 22,
     "metadata": {},
     "output_type": "execute_result"
    }
   ],
   "source": [
    "y_test.shape"
   ]
  },
  {
   "cell_type": "code",
   "execution_count": 23,
   "metadata": {},
   "outputs": [
    {
     "name": "stderr",
     "output_type": "stream",
     "text": [
      "Using TensorFlow backend.\n",
      "C:\\Users\\Anantha Priya\\miniconda3\\lib\\site-packages\\tensorflow\\python\\framework\\dtypes.py:526: FutureWarning: Passing (type, 1) or '1type' as a synonym of type is deprecated; in a future version of numpy, it will be understood as (type, (1,)) / '(1,)type'.\n",
      "  _np_qint8 = np.dtype([(\"qint8\", np.int8, 1)])\n",
      "C:\\Users\\Anantha Priya\\miniconda3\\lib\\site-packages\\tensorflow\\python\\framework\\dtypes.py:527: FutureWarning: Passing (type, 1) or '1type' as a synonym of type is deprecated; in a future version of numpy, it will be understood as (type, (1,)) / '(1,)type'.\n",
      "  _np_quint8 = np.dtype([(\"quint8\", np.uint8, 1)])\n",
      "C:\\Users\\Anantha Priya\\miniconda3\\lib\\site-packages\\tensorflow\\python\\framework\\dtypes.py:528: FutureWarning: Passing (type, 1) or '1type' as a synonym of type is deprecated; in a future version of numpy, it will be understood as (type, (1,)) / '(1,)type'.\n",
      "  _np_qint16 = np.dtype([(\"qint16\", np.int16, 1)])\n",
      "C:\\Users\\Anantha Priya\\miniconda3\\lib\\site-packages\\tensorflow\\python\\framework\\dtypes.py:529: FutureWarning: Passing (type, 1) or '1type' as a synonym of type is deprecated; in a future version of numpy, it will be understood as (type, (1,)) / '(1,)type'.\n",
      "  _np_quint16 = np.dtype([(\"quint16\", np.uint16, 1)])\n",
      "C:\\Users\\Anantha Priya\\miniconda3\\lib\\site-packages\\tensorflow\\python\\framework\\dtypes.py:530: FutureWarning: Passing (type, 1) or '1type' as a synonym of type is deprecated; in a future version of numpy, it will be understood as (type, (1,)) / '(1,)type'.\n",
      "  _np_qint32 = np.dtype([(\"qint32\", np.int32, 1)])\n",
      "C:\\Users\\Anantha Priya\\miniconda3\\lib\\site-packages\\tensorflow\\python\\framework\\dtypes.py:535: FutureWarning: Passing (type, 1) or '1type' as a synonym of type is deprecated; in a future version of numpy, it will be understood as (type, (1,)) / '(1,)type'.\n",
      "  np_resource = np.dtype([(\"resource\", np.ubyte, 1)])\n",
      "C:\\Users\\Anantha Priya\\miniconda3\\lib\\site-packages\\ipykernel_launcher.py:4: UserWarning: Update your `Dense` call to the Keras 2 API: `Dense(units=3000, activation=\"relu\", kernel_initializer=\"random_uniform\")`\n",
      "  after removing the cwd from sys.path.\n",
      "C:\\Users\\Anantha Priya\\miniconda3\\lib\\site-packages\\ipykernel_launcher.py:5: UserWarning: Update your `Dense` call to the Keras 2 API: `Dense(units=4500, activation=\"relu\", kernel_initializer=\"random_uniform\")`\n",
      "  \"\"\"\n"
     ]
    }
   ],
   "source": [
    "from keras.models import Sequential\n",
    "from keras.layers import Dense\n",
    "model = Sequential()\n",
    "model.add(Dense(units = 3000 ,init = \"random_uniform\",activation = \"relu\"))\n",
    "model.add(Dense(units = 4500 ,init = \"random_uniform\",activation = \"relu\"))"
   ]
  },
  {
   "cell_type": "code",
   "execution_count": 35,
   "metadata": {},
   "outputs": [
    {
     "name": "stdout",
     "output_type": "stream",
     "text": [
      "WARNING:tensorflow:From C:\\Users\\Anantha Priya\\miniconda3\\lib\\site-packages\\tensorflow\\python\\ops\\resource_variable_ops.py:435: colocate_with (from tensorflow.python.framework.ops) is deprecated and will be removed in a future version.\n",
      "Instructions for updating:\n",
      "Colocations handled automatically by placer.\n"
     ]
    },
    {
     "name": "stderr",
     "output_type": "stream",
     "text": [
      "C:\\Users\\Anantha Priya\\miniconda3\\lib\\site-packages\\ipykernel_launcher.py:1: UserWarning: Update your `Dense` call to the Keras 2 API: `Dense(units=1, activation=\"sigmoid\", kernel_initializer=\"random_uniform\")`\n",
      "  \"\"\"Entry point for launching an IPython kernel.\n"
     ]
    },
    {
     "name": "stdout",
     "output_type": "stream",
     "text": [
      "WARNING:tensorflow:From C:\\Users\\Anantha Priya\\miniconda3\\lib\\site-packages\\tensorflow\\python\\ops\\math_ops.py:3066: to_int32 (from tensorflow.python.ops.math_ops) is deprecated and will be removed in a future version.\n",
      "Instructions for updating:\n",
      "Use tf.cast instead.\n",
      "Epoch 1/20\n",
      "54388/54388 [==============================] - 960s 18ms/step - loss: 0.3437 - accuracy: 0.8509\n",
      "Epoch 2/20\n",
      "54388/54388 [==============================] - 1102s 20ms/step - loss: 0.2659 - accuracy: 0.8888\n",
      "Epoch 3/20\n",
      "54388/54388 [==============================] - 1178s 22ms/step - loss: 0.2047 - accuracy: 0.9177\n",
      "Epoch 4/20\n",
      "54388/54388 [==============================] - 1194s 22ms/step - loss: 0.1593 - accuracy: 0.9372\n",
      "Epoch 5/20\n",
      "54388/54388 [==============================] - 1121s 21ms/step - loss: 0.1378 - accuracy: 0.9460\n",
      "Epoch 6/20\n",
      "54388/54388 [==============================] - 1100s 20ms/step - loss: 0.1268 - accuracy: 0.9505\n",
      "Epoch 7/20\n",
      "54388/54388 [==============================] - 1994s 37ms/step - loss: 0.1193 - accuracy: 0.9526\n",
      "Epoch 8/20\n",
      "54388/54388 [==============================] - 997s 18ms/step - loss: 0.1161 - accuracy: 0.9532\n",
      "Epoch 9/20\n",
      "54388/54388 [==============================] - 1032s 19ms/step - loss: 0.1143 - accuracy: 0.9543\n",
      "Epoch 10/20\n",
      "54388/54388 [==============================] - 906s 17ms/step - loss: 0.1116 - accuracy: 0.9547\n",
      "Epoch 11/20\n",
      "54388/54388 [==============================] - 902s 17ms/step - loss: 0.1086 - accuracy: 0.9557\n",
      "Epoch 12/20\n",
      "54388/54388 [==============================] - 905s 17ms/step - loss: 0.1081 - accuracy: 0.9558\n",
      "Epoch 13/20\n",
      "54388/54388 [==============================] - 894s 16ms/step - loss: 0.1071 - accuracy: 0.9560\n",
      "Epoch 14/20\n",
      "54388/54388 [==============================] - 891s 16ms/step - loss: 0.1056 - accuracy: 0.9566\n",
      "Epoch 15/20\n",
      "54388/54388 [==============================] - 961s 18ms/step - loss: 0.1056 - accuracy: 0.9565\n",
      "Epoch 16/20\n",
      "54388/54388 [==============================] - 895s 16ms/step - loss: 0.1075 - accuracy: 0.9558\n",
      "Epoch 17/20\n",
      "54388/54388 [==============================] - 890s 16ms/step - loss: 0.1062 - accuracy: 0.9563\n",
      "Epoch 18/20\n",
      "54388/54388 [==============================] - 892s 16ms/step - loss: 0.1054 - accuracy: 0.9569\n",
      "Epoch 19/20\n",
      "54388/54388 [==============================] - 892s 16ms/step - loss: 0.1023 - accuracy: 0.9575\n",
      "Epoch 20/20\n",
      "54388/54388 [==============================] - 893s 16ms/step - loss: 0.1021 - accuracy: 0.9572\n"
     ]
    },
    {
     "data": {
      "text/plain": [
       "<keras.callbacks.callbacks.History at 0x267f1034d08>"
      ]
     },
     "execution_count": 35,
     "metadata": {},
     "output_type": "execute_result"
    }
   ],
   "source": [
    "model.add(Dense(units = 1 ,init = \"random_uniform\",activation = \"sigmoid\"))\n",
    "model.compile(optimizer = \"adam\",loss = \"binary_crossentropy\",metrics = [\"accuracy\"])\n",
    "model.fit(x_train,y_train,epochs  = 20)"
   ]
  },
  {
   "cell_type": "code",
   "execution_count": 36,
   "metadata": {},
   "outputs": [],
   "source": [
    "model.save(\"nlp.h5\")"
   ]
  },
  {
   "cell_type": "code",
   "execution_count": 24,
   "metadata": {},
   "outputs": [],
   "source": [
    "text =  \"Hello, I have this phone and used it until I decided to buy a flip phone. I have had NO problems with the battery or new cases--it has a new fish case on \"\n",
    "text = re.sub('[^a-zA-Z]', ' ',text)\n",
    "text = text.lower()\n",
    "text = text.split()\n",
    "text = [ps.stem(word) for word in text if not word in set(stopwords.words('english'))]\n",
    "text = ' '.join(text)"
   ]
  },
  {
   "cell_type": "code",
   "execution_count": 60,
   "metadata": {},
   "outputs": [],
   "source": [
    "y_p1 = model.predict(cv.transform([text]))"
   ]
  },
  {
   "cell_type": "code",
   "execution_count": 61,
   "metadata": {},
   "outputs": [
    {
     "data": {
      "text/plain": [
       "array([[0.00312615]], dtype=float32)"
      ]
     },
     "execution_count": 61,
     "metadata": {},
     "output_type": "execute_result"
    }
   ],
   "source": [
    "y_p1"
   ]
  },
  {
   "cell_type": "code",
   "execution_count": 62,
   "metadata": {},
   "outputs": [
    {
     "data": {
      "text/plain": [
       "array([[False]])"
      ]
     },
     "execution_count": 62,
     "metadata": {},
     "output_type": "execute_result"
    }
   ],
   "source": [
    "y_p1>0.50.9572"
   ]
  },
  {
   "cell_type": "code",
   "execution_count": 63,
   "metadata": {},
   "outputs": [
    {
     "data": {
      "text/plain": [
       "array([[ True]])"
      ]
     },
     "execution_count": 63,
     "metadata": {},
     "output_type": "execute_result"
    }
   ],
   "source": [
    "y_p1<0.5"
   ]
  },
  {
   "cell_type": "markdown",
   "metadata": {},
   "source": []
  }
 ],
 "metadata": {
  "kernelspec": {
   "display_name": "Python 3",
   "language": "python",
   "name": "python3"
  },
  "language_info": {
   "codemirror_mode": {
    "name": "ipython",
    "version": 3
   },
   "file_extension": ".py",
   "mimetype": "text/x-python",
   "name": "python",
   "nbconvert_exporter": "python",
   "pygments_lexer": "ipython3",
   "version": "3.7.7"
  }
 },
 "nbformat": 4,
 "nbformat_minor": 2
}
